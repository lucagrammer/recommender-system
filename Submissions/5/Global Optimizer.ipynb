{
 "cells": [
  {
   "cell_type": "code",
   "execution_count": 1,
   "metadata": {},
   "outputs": [],
   "source": [
    "import numpy as np\n",
    "import pandas as pd\n",
    "import scipy.sparse as sp\n",
    "import FileManager"
   ]
  },
  {
   "cell_type": "code",
   "execution_count": 3,
   "metadata": {},
   "outputs": [
    {
     "name": "stdout",
     "output_type": "stream",
     "text": [
      "> Importing file...\n",
      "> Importing file... Completed!\n",
      "> Importing file...\n",
      "> Importing file... Completed!\n"
     ]
    }
   ],
   "source": [
    "ratings = FileManager.load_data()\n",
    "users_to_recommend = np.array(FileManager.load_target()).squeeze()\n",
    "urm_all,urm_train,urm_validation= FileManager.split_data(ratings)\n",
    "urm_train_validation = urm_train + urm_validation"
   ]
  },
  {
   "cell_type": "code",
   "execution_count": 20,
   "metadata": {},
   "outputs": [],
   "source": [
    "sp.save_npz(\"saved_urm/urm_train.npz\", urm_train, compressed=True)\n",
    "sp.save_npz(\"saved_urm/urm_validation.npz\", urm_validation, compressed=True)\n",
    "sp.save_npz(\"saved_urm/urm_train_validation.npz\", urm_train_validation, compressed=True)"
   ]
  },
  {
   "cell_type": "code",
   "execution_count": 2,
   "metadata": {},
   "outputs": [],
   "source": [
    "urm_train_l=sp.load_npz(\"saved_urm/urm_train.npz\")\n",
    "urm_validation_l=sp.load_npz(\"saved_urm/urm_validation.npz\")\n",
    "urm_train_validation_l=sp.load_npz(\"saved_urm/urm_train_validation.npz\")"
   ]
  },
  {
   "cell_type": "code",
   "execution_count": 6,
   "metadata": {},
   "outputs": [
    {
     "name": "stdout",
     "output_type": "stream",
     "text": [
      "EvaluatorHoldout: Ignoring 13646 ( 0.0%) Users that have less than 1 test interactions\n"
     ]
    }
   ],
   "source": [
    "from Evaluation.Evaluator import EvaluatorHoldout\n",
    "\n",
    "evaluator_validation = EvaluatorHoldout(urm_validation_l, cutoff_list=[10])"
   ]
  },
  {
   "cell_type": "code",
   "execution_count": 11,
   "metadata": {},
   "outputs": [
    {
     "name": "stdout",
     "output_type": "stream",
     "text": [
      "Tensorflow is not available\n",
      "SearchBayesianSkopt: Extending previous number of cases from 80 to 100.\n",
      "\n",
      "SearchBayesianSkopt: Resuming 'PureSVDRecommender'... Loaded 80 configurations.\n",
      "Iteration No: 1 started. Evaluating function at random point.\n",
      "Iteration No: 1 ended. Evaluation done at random point.\n",
      "Time taken: 1.9351\n",
      "Function value obtained: -0.2335\n",
      "Current minimum: -0.2335\n",
      "Iteration No: 2 started. Evaluating function at random point.\n",
      "SearchBayesianSkopt: Testing config: {'num_factors': 87}\n",
      "PureSVDRecommender: Computing SVD decomposition...\n",
      "PureSVDRecommender: Computing SVD decomposition... done in 6.63 sec\n",
      "EvaluatorHoldout: Processed 13646 (100.0%) in 13.29 sec. Users per second: 1027\n",
      "SearchBayesianSkopt: Config 80 is suboptimal. Config: {'num_factors': 87} - results: PRECISION: 0.3394181, PRECISION_RECALL_MIN_DEN: 0.3408638, RECALL: 0.0585425, MAP: 0.1993070, MAP_MIN_DEN: 0.1998830, MRR: 0.5931145, NDCG: 0.3538999, F1: 0.0998611, HIT_RATE: 0.9504617, ARHR_ALL_HITS: 1.0710643, NOVELTY: 0.0057044, AVERAGE_POPULARITY: 0.4208886, DIVERSITY_MEAN_INTER_LIST: 0.9682755, DIVERSITY_HERFINDAHL: 0.9968205, COVERAGE_ITEM: 0.0599147, COVERAGE_ITEM_CORRECT: 0.0520516, COVERAGE_USER: 0.9997070, COVERAGE_USER_CORRECT: 0.9501832, DIVERSITY_GINI: 0.0172308, SHANNON_ENTROPY: 8.7168052, RATIO_DIVERSITY_HERFINDAHL: 0.9972050, RATIO_DIVERSITY_GINI: 0.0694640, RATIO_SHANNON_ENTROPY: 0.7034931, RATIO_AVERAGE_POPULARITY: 2.0666622, RATIO_NOVELTY: 0.0268383, \n",
      "\n",
      "Iteration No: 2 ended. Evaluation done at random point.\n",
      "Time taken: 22.5205\n",
      "Function value obtained: -0.1993\n",
      "Current minimum: -0.2335\n",
      "Iteration No: 3 started. Evaluating function at random point.\n",
      "SearchBayesianSkopt: Testing config: {'num_factors': 31}\n",
      "SearchBayesianSkopt: Config 81 was already explored at index 67. Config: {'num_factors': 31} - results: PRECISION: 0.3807050, PRECISION_RECALL_MIN_DEN: 0.3824301, RECALL: 0.0669771, MAP: 0.2334697, MAP_MIN_DEN: 0.2342759, MRR: 0.6334855, NDCG: 0.3958102, F1: 0.1139135, HIT_RATE: 0.9646783, ARHR_ALL_HITS: 1.1942536, NOVELTY: 0.0055212, AVERAGE_POPULARITY: 0.5313491, DIVERSITY_MEAN_INTER_LIST: 0.9315832, DIVERSITY_HERFINDAHL: 0.9931515, COVERAGE_ITEM: 0.0449637, COVERAGE_ITEM_CORRECT: 0.0394817, COVERAGE_USER: 0.9997070, COVERAGE_USER_CORRECT: 0.9643956, DIVERSITY_GINI: 0.0104058, SHANNON_ENTROPY: 7.9287651, RATIO_DIVERSITY_HERFINDAHL: 0.9935346, RATIO_DIVERSITY_GINI: 0.0419496, RATIO_SHANNON_ENTROPY: 0.6398940, RATIO_AVERAGE_POPULARITY: 2.6090496, RATIO_NOVELTY: 0.0259767, \n",
      "\n",
      "Iteration No: 3 ended. Evaluation done at random point.\n",
      "Time taken: 2.7466\n",
      "Function value obtained: -0.2335\n",
      "Current minimum: -0.2335\n",
      "Iteration No: 4 started. Evaluating function at random point.\n",
      "SearchBayesianSkopt: Testing config: {'num_factors': 31}\n",
      "SearchBayesianSkopt: Config 82 was already explored at index 67. Config: {'num_factors': 31} - results: PRECISION: 0.3807050, PRECISION_RECALL_MIN_DEN: 0.3824301, RECALL: 0.0669771, MAP: 0.2334697, MAP_MIN_DEN: 0.2342759, MRR: 0.6334855, NDCG: 0.3958102, F1: 0.1139135, HIT_RATE: 0.9646783, ARHR_ALL_HITS: 1.1942536, NOVELTY: 0.0055212, AVERAGE_POPULARITY: 0.5313491, DIVERSITY_MEAN_INTER_LIST: 0.9315832, DIVERSITY_HERFINDAHL: 0.9931515, COVERAGE_ITEM: 0.0449637, COVERAGE_ITEM_CORRECT: 0.0394817, COVERAGE_USER: 0.9997070, COVERAGE_USER_CORRECT: 0.9643956, DIVERSITY_GINI: 0.0104058, SHANNON_ENTROPY: 7.9287651, RATIO_DIVERSITY_HERFINDAHL: 0.9935346, RATIO_DIVERSITY_GINI: 0.0419496, RATIO_SHANNON_ENTROPY: 0.6398940, RATIO_AVERAGE_POPULARITY: 2.6090496, RATIO_NOVELTY: 0.0259767, \n",
      "\n",
      "Iteration No: 4 ended. Evaluation done at random point.\n",
      "Time taken: 2.2048\n",
      "Function value obtained: -0.2335\n",
      "Current minimum: -0.2335\n",
      "Iteration No: 5 started. Evaluating function at random point.\n",
      "SearchBayesianSkopt: Testing config: {'num_factors': 137}\n",
      "PureSVDRecommender: Computing SVD decomposition...\n",
      "PureSVDRecommender: Computing SVD decomposition... done in 10.07 sec\n",
      "EvaluatorHoldout: Processed 13646 (100.0%) in 13.83 sec. Users per second: 986\n",
      "SearchBayesianSkopt: Config 83 is suboptimal. Config: {'num_factors': 137} - results: PRECISION: 0.3159607, PRECISION_RECALL_MIN_DEN: 0.3170054, RECALL: 0.0536883, MAP: 0.1817705, MAP_MIN_DEN: 0.1822468, MRR: 0.5711377, NDCG: 0.3306571, F1: 0.0917810, HIT_RATE: 0.9382969, ARHR_ALL_HITS: 1.0046113, NOVELTY: 0.0058670, AVERAGE_POPULARITY: 0.3440155, DIVERSITY_MEAN_INTER_LIST: 0.9765924, DIVERSITY_HERFINDAHL: 0.9976521, COVERAGE_ITEM: 0.0703250, COVERAGE_ITEM_CORRECT: 0.0603577, COVERAGE_USER: 0.9997070, COVERAGE_USER_CORRECT: 0.9380220, DIVERSITY_GINI: 0.0227318, SHANNON_ENTROPY: 9.1133576, RATIO_DIVERSITY_HERFINDAHL: 0.9980369, RATIO_DIVERSITY_GINI: 0.0916402, RATIO_SHANNON_ENTROPY: 0.7354970, RATIO_AVERAGE_POPULARITY: 1.6891973, RATIO_NOVELTY: 0.0276036, \n",
      "\n",
      "Iteration No: 5 ended. Evaluation done at random point.\n",
      "Time taken: 26.2115\n",
      "Function value obtained: -0.1818\n",
      "Current minimum: -0.2335\n",
      "Iteration No: 6 started. Evaluating function at random point.\n",
      "SearchBayesianSkopt: Testing config: {'num_factors': 31}\n",
      "SearchBayesianSkopt: Config 84 was already explored at index 67. Config: {'num_factors': 31} - results: PRECISION: 0.3807050, PRECISION_RECALL_MIN_DEN: 0.3824301, RECALL: 0.0669771, MAP: 0.2334697, MAP_MIN_DEN: 0.2342759, MRR: 0.6334855, NDCG: 0.3958102, F1: 0.1139135, HIT_RATE: 0.9646783, ARHR_ALL_HITS: 1.1942536, NOVELTY: 0.0055212, AVERAGE_POPULARITY: 0.5313491, DIVERSITY_MEAN_INTER_LIST: 0.9315832, DIVERSITY_HERFINDAHL: 0.9931515, COVERAGE_ITEM: 0.0449637, COVERAGE_ITEM_CORRECT: 0.0394817, COVERAGE_USER: 0.9997070, COVERAGE_USER_CORRECT: 0.9643956, DIVERSITY_GINI: 0.0104058, SHANNON_ENTROPY: 7.9287651, RATIO_DIVERSITY_HERFINDAHL: 0.9935346, RATIO_DIVERSITY_GINI: 0.0419496, RATIO_SHANNON_ENTROPY: 0.6398940, RATIO_AVERAGE_POPULARITY: 2.6090496, RATIO_NOVELTY: 0.0259767, \n",
      "\n",
      "Iteration No: 6 ended. Evaluation done at random point.\n",
      "Time taken: 2.6037\n",
      "Function value obtained: -0.2335\n",
      "Current minimum: -0.2335\n",
      "Iteration No: 7 started. Evaluating function at random point.\n",
      "SearchBayesianSkopt: Testing config: {'num_factors': 38}\n",
      "PureSVDRecommender: Computing SVD decomposition...\n",
      "PureSVDRecommender: Computing SVD decomposition... done in 1.77 sec\n",
      "EvaluatorHoldout: Processed 13646 (100.0%) in 14.76 sec. Users per second: 924\n",
      "SearchBayesianSkopt: Config 85 is suboptimal. Config: {'num_factors': 38} - results: PRECISION: 0.3778250, PRECISION_RECALL_MIN_DEN: 0.3796032, RECALL: 0.0669914, MAP: 0.2301690, MAP_MIN_DEN: 0.2310951, MRR: 0.6293836, NDCG: 0.3927044, F1: 0.1138044, HIT_RATE: 0.9665103, ARHR_ALL_HITS: 1.1836042, NOVELTY: 0.0055379, AVERAGE_POPULARITY: 0.5199774, DIVERSITY_MEAN_INTER_LIST: 0.9393324, DIVERSITY_HERFINDAHL: 0.9939264, COVERAGE_ITEM: 0.0479539, COVERAGE_ITEM_CORRECT: 0.0419735, COVERAGE_USER: 0.9997070, COVERAGE_USER_CORRECT: 0.9662271, DIVERSITY_GINI: 0.0112620, SHANNON_ENTROPY: 8.0568391, RATIO_DIVERSITY_HERFINDAHL: 0.9943097, RATIO_DIVERSITY_GINI: 0.0454012, RATIO_SHANNON_ENTROPY: 0.6502302, RATIO_AVERAGE_POPULARITY: 2.5532120, RATIO_NOVELTY: 0.0260549, \n",
      "\n",
      "Iteration No: 7 ended. Evaluation done at random point.\n",
      "Time taken: 18.5608\n",
      "Function value obtained: -0.2302\n",
      "Current minimum: -0.2335\n",
      "Iteration No: 8 started. Evaluating function at random point.\n",
      "SearchBayesianSkopt: Testing config: {'num_factors': 32}\n",
      "PureSVDRecommender: Computing SVD decomposition...\n",
      "PureSVDRecommender: Computing SVD decomposition... done in 2.32 sec\n",
      "EvaluatorHoldout: Processed 13646 (100.0%) in 16.66 sec. Users per second: 819\n",
      "SearchBayesianSkopt: New best config found. Config 86: {'num_factors': 32} - results: PRECISION: 0.3813425, PRECISION_RECALL_MIN_DEN: 0.3831026, RECALL: 0.0670440, MAP: 0.2339306, MAP_MIN_DEN: 0.2347708, MRR: 0.6338825, NDCG: 0.3965114, F1: 0.1140388, HIT_RATE: 0.9641653, ARHR_ALL_HITS: 1.1962291, NOVELTY: 0.0055238, AVERAGE_POPULARITY: 0.5298126, DIVERSITY_MEAN_INTER_LIST: 0.9327051, DIVERSITY_HERFINDAHL: 0.9932637, COVERAGE_ITEM: 0.0453513, COVERAGE_ITEM_CORRECT: 0.0398693, COVERAGE_USER: 0.9997070, COVERAGE_USER_CORRECT: 0.9638828, DIVERSITY_GINI: 0.0105397, SHANNON_ENTROPY: 7.9482994, RATIO_DIVERSITY_HERFINDAHL: 0.9936468, RATIO_DIVERSITY_GINI: 0.0424896, RATIO_SHANNON_ENTROPY: 0.6414705, RATIO_AVERAGE_POPULARITY: 2.6015049, RATIO_NOVELTY: 0.0259889, \n",
      "\n",
      "SearchBayesianSkopt: Saving model in Optimization_PURE_SVD/PureSVDRecommender\n",
      "\n",
      "PureSVDRecommender: Saving model in file 'Optimization_PURE_SVD/PureSVDRecommender_best_model'\n",
      "PureSVDRecommender: Saving complete\n",
      "Iteration No: 8 ended. Evaluation done at random point.\n",
      "Time taken: 23.2058\n",
      "Function value obtained: -0.2339\n",
      "Current minimum: -0.2339\n",
      "Iteration No: 9 started. Evaluating function at random point.\n",
      "SearchBayesianSkopt: Testing config: {'num_factors': 227}\n",
      "PureSVDRecommender: Computing SVD decomposition...\n",
      "PureSVDRecommender: Computing SVD decomposition... done in 11.37 sec\n",
      "EvaluatorHoldout: Processed 13646 (100.0%) in 13.94 sec. Users per second: 979\n",
      "SearchBayesianSkopt: Config 87 is suboptimal. Config: {'num_factors': 227} - results: PRECISION: 0.2854170, PRECISION_RECALL_MIN_DEN: 0.2863832, RECALL: 0.0482354, MAP: 0.1602459, MAP_MIN_DEN: 0.1606758, MRR: 0.5483361, NDCG: 0.3017971, F1: 0.0825243, HIT_RATE: 0.9236406, ARHR_ALL_HITS: 0.9252276, NOVELTY: 0.0060858, AVERAGE_POPULARITY: 0.2597768, DIVERSITY_MEAN_INTER_LIST: 0.9819617, DIVERSITY_HERFINDAHL: 0.9981890, COVERAGE_ITEM: 0.0884324, COVERAGE_ITEM_CORRECT: 0.0751980, COVERAGE_USER: 0.9997070, COVERAGE_USER_CORRECT: 0.9233700, DIVERSITY_GINI: 0.0294930, SHANNON_ENTROPY: 9.4883384, RATIO_DIVERSITY_HERFINDAHL: 0.9985740, RATIO_DIVERSITY_GINI: 0.1188975, RATIO_SHANNON_ENTROPY: 0.7657599, RATIO_AVERAGE_POPULARITY: 1.2755655, RATIO_NOVELTY: 0.0286327, \n",
      "\n",
      "Iteration No: 9 ended. Evaluation done at random point.\n",
      "Time taken: 27.8243\n",
      "Function value obtained: -0.1602\n",
      "Current minimum: -0.2339\n",
      "Iteration No: 10 started. Evaluating function at random point.\n",
      "SearchBayesianSkopt: Testing config: {'num_factors': 183}\n",
      "PureSVDRecommender: Computing SVD decomposition...\n",
      "PureSVDRecommender: Computing SVD decomposition... done in 9.50 sec\n",
      "EvaluatorHoldout: Processed 13646 (100.0%) in 13.74 sec. Users per second: 993\n",
      "SearchBayesianSkopt: Config 88 is suboptimal. Config: {'num_factors': 183} - results: PRECISION: 0.2997215, PRECISION_RECALL_MIN_DEN: 0.3007063, RECALL: 0.0506967, MAP: 0.1705423, MAP_MIN_DEN: 0.1710325, MRR: 0.5587931, NDCG: 0.3155736, F1: 0.0867243, HIT_RATE: 0.9300894, ARHR_ALL_HITS: 0.9636958, NOVELTY: 0.0059897, AVERAGE_POPULARITY: 0.2938983, DIVERSITY_MEAN_INTER_LIST: 0.9798805, DIVERSITY_HERFINDAHL: 0.9979809, COVERAGE_ITEM: 0.0801263, COVERAGE_ITEM_CORRECT: 0.0688299, COVERAGE_USER: 0.9997070, COVERAGE_USER_CORRECT: 0.9298168, DIVERSITY_GINI: 0.0265035, SHANNON_ENTROPY: 9.3345459, RATIO_DIVERSITY_HERFINDAHL: 0.9983658, RATIO_DIVERSITY_GINI: 0.1068457, RATIO_SHANNON_ENTROPY: 0.7533481, RATIO_AVERAGE_POPULARITY: 1.4431098, RATIO_NOVELTY: 0.0281807, \n",
      "\n",
      "Iteration No: 10 ended. Evaluation done at random point.\n",
      "Time taken: 25.4801\n",
      "Function value obtained: -0.1705\n",
      "Current minimum: -0.2339\n",
      "Iteration No: 11 started. Evaluating function at random point.\n",
      "SearchBayesianSkopt: Testing config: {'num_factors': 150}\n",
      "PureSVDRecommender: Computing SVD decomposition...\n",
      "PureSVDRecommender: Computing SVD decomposition... done in 8.07 sec\n",
      "EvaluatorHoldout: Processed 13646 (100.0%) in 14.06 sec. Users per second: 971\n",
      "SearchBayesianSkopt: Config 89 is suboptimal. Config: {'num_factors': 150} - results: PRECISION: 0.3091382, PRECISION_RECALL_MIN_DEN: 0.3101944, RECALL: 0.0523379, MAP: 0.1769244, MAP_MIN_DEN: 0.1773737, MRR: 0.5640799, NDCG: 0.3240644, F1: 0.0895198, HIT_RATE: 0.9346329, ARHR_ALL_HITS: 0.9857691, NOVELTY: 0.0059049, AVERAGE_POPULARITY: 0.3274334, DIVERSITY_MEAN_INTER_LIST: 0.9776527, DIVERSITY_HERFINDAHL: 0.9977581, COVERAGE_ITEM: 0.0721524, COVERAGE_ITEM_CORRECT: 0.0625173, COVERAGE_USER: 0.9997070, COVERAGE_USER_CORRECT: 0.9343590, DIVERSITY_GINI: 0.0237832, SHANNON_ENTROPY: 9.1780953, RATIO_DIVERSITY_HERFINDAHL: 0.9981430, RATIO_DIVERSITY_GINI: 0.0958791, RATIO_SHANNON_ENTROPY: 0.7407217, RATIO_AVERAGE_POPULARITY: 1.6077753, RATIO_NOVELTY: 0.0277820, \n",
      "\n",
      "Iteration No: 11 ended. Evaluation done at random point.\n",
      "Time taken: 24.6908\n",
      "Function value obtained: -0.1769\n",
      "Current minimum: -0.2339\n",
      "Iteration No: 12 started. Evaluating function at random point.\n",
      "SearchBayesianSkopt: Testing config: {'num_factors': 32}\n",
      "SearchBayesianSkopt: Config 90 was already explored at index 86. Config: {'num_factors': 32} - results: PRECISION: 0.3813425, PRECISION_RECALL_MIN_DEN: 0.3831026, RECALL: 0.0670440, MAP: 0.2339306, MAP_MIN_DEN: 0.2347708, MRR: 0.6338825, NDCG: 0.3965114, F1: 0.1140388, HIT_RATE: 0.9641653, ARHR_ALL_HITS: 1.1962291, NOVELTY: 0.0055238, AVERAGE_POPULARITY: 0.5298126, DIVERSITY_MEAN_INTER_LIST: 0.9327051, DIVERSITY_HERFINDAHL: 0.9932637, COVERAGE_ITEM: 0.0453513, COVERAGE_ITEM_CORRECT: 0.0398693, COVERAGE_USER: 0.9997070, COVERAGE_USER_CORRECT: 0.9638828, DIVERSITY_GINI: 0.0105397, SHANNON_ENTROPY: 7.9482994, RATIO_DIVERSITY_HERFINDAHL: 0.9936468, RATIO_DIVERSITY_GINI: 0.0424896, RATIO_SHANNON_ENTROPY: 0.6414705, RATIO_AVERAGE_POPULARITY: 2.6015049, RATIO_NOVELTY: 0.0259889, \n",
      "\n",
      "Iteration No: 12 ended. Evaluation done at random point.\n",
      "Time taken: 2.8215\n",
      "Function value obtained: -0.2339\n",
      "Current minimum: -0.2339\n",
      "Iteration No: 13 started. Evaluating function at random point.\n",
      "SearchBayesianSkopt: Testing config: {'num_factors': 6}\n",
      "PureSVDRecommender: Computing SVD decomposition...\n",
      "PureSVDRecommender: Computing SVD decomposition... done in 0.71 sec\n",
      "EvaluatorHoldout: Processed 13646 (100.0%) in 13.18 sec. Users per second: 1035\n",
      "SearchBayesianSkopt: Config 91 is suboptimal. Config: {'num_factors': 6} - results: PRECISION: 0.3423348, PRECISION_RECALL_MIN_DEN: 0.3437367, RECALL: 0.0581898, MAP: 0.2076355, MAP_MIN_DEN: 0.2083424, MRR: 0.6120377, NDCG: 0.3619291, F1: 0.0994715, HIT_RATE: 0.9473838, ARHR_ALL_HITS: 1.1080262, NOVELTY: 0.0053249, AVERAGE_POPULARITY: 0.6383496, DIVERSITY_MEAN_INTER_LIST: 0.8528349, DIVERSITY_HERFINDAHL: 0.9852772, COVERAGE_ITEM: 0.0161138, COVERAGE_ITEM_CORRECT: 0.0144526, COVERAGE_USER: 0.9997070, COVERAGE_USER_CORRECT: 0.9471062, DIVERSITY_GINI: 0.0040722, SHANNON_ENTROPY: 6.6132855, RATIO_DIVERSITY_HERFINDAHL: 0.9856573, RATIO_DIVERSITY_GINI: 0.0164164, RATIO_SHANNON_ENTROPY: 0.5337277, RATIO_AVERAGE_POPULARITY: 3.1344472, RATIO_NOVELTY: 0.0250532, \n",
      "\n",
      "Iteration No: 13 ended. Evaluation done at random point.\n",
      "Time taken: 16.4561\n",
      "Function value obtained: -0.2076\n",
      "Current minimum: -0.2339\n",
      "Iteration No: 14 started. Evaluating function at random point.\n",
      "SearchBayesianSkopt: Testing config: {'num_factors': 32}\n",
      "SearchBayesianSkopt: Config 92 was already explored at index 86. Config: {'num_factors': 32} - results: PRECISION: 0.3813425, PRECISION_RECALL_MIN_DEN: 0.3831026, RECALL: 0.0670440, MAP: 0.2339306, MAP_MIN_DEN: 0.2347708, MRR: 0.6338825, NDCG: 0.3965114, F1: 0.1140388, HIT_RATE: 0.9641653, ARHR_ALL_HITS: 1.1962291, NOVELTY: 0.0055238, AVERAGE_POPULARITY: 0.5298126, DIVERSITY_MEAN_INTER_LIST: 0.9327051, DIVERSITY_HERFINDAHL: 0.9932637, COVERAGE_ITEM: 0.0453513, COVERAGE_ITEM_CORRECT: 0.0398693, COVERAGE_USER: 0.9997070, COVERAGE_USER_CORRECT: 0.9638828, DIVERSITY_GINI: 0.0105397, SHANNON_ENTROPY: 7.9482994, RATIO_DIVERSITY_HERFINDAHL: 0.9936468, RATIO_DIVERSITY_GINI: 0.0424896, RATIO_SHANNON_ENTROPY: 0.6414705, RATIO_AVERAGE_POPULARITY: 2.6015049, RATIO_NOVELTY: 0.0259889, \n",
      "\n",
      "Iteration No: 14 ended. Evaluation done at random point.\n",
      "Time taken: 2.8692\n",
      "Function value obtained: -0.2339\n",
      "Current minimum: -0.2339\n",
      "Iteration No: 15 started. Evaluating function at random point.\n",
      "SearchBayesianSkopt: Testing config: {'num_factors': 21}\n",
      "PureSVDRecommender: Computing SVD decomposition...\n",
      "PureSVDRecommender: Computing SVD decomposition... done in 1.81 sec\n",
      "EvaluatorHoldout: Processed 13646 (100.0%) in 13.22 sec. Users per second: 1032\n",
      "SearchBayesianSkopt: Config 93 is suboptimal. Config: {'num_factors': 21} - results: PRECISION: 0.3753994, PRECISION_RECALL_MIN_DEN: 0.3769897, RECALL: 0.0652535, MAP: 0.2304843, MAP_MIN_DEN: 0.2313088, MRR: 0.6309360, NDCG: 0.3916006, F1: 0.1111811, HIT_RATE: 0.9597684, ARHR_ALL_HITS: 1.1846880, NOVELTY: 0.0054807, AVERAGE_POPULARITY: 0.5562241, DIVERSITY_MEAN_INTER_LIST: 0.9136348, DIVERSITY_HERFINDAHL: 0.9913568, COVERAGE_ITEM: 0.0384850, COVERAGE_ITEM_CORRECT: 0.0338889, COVERAGE_USER: 0.9997070, COVERAGE_USER_CORRECT: 0.9594872, DIVERSITY_GINI: 0.0087604, SHANNON_ENTROPY: 7.6546849, RATIO_DIVERSITY_HERFINDAHL: 0.9917392, RATIO_DIVERSITY_GINI: 0.0353166, RATIO_SHANNON_ENTROPY: 0.6177742, RATIO_AVERAGE_POPULARITY: 2.7311915, RATIO_NOVELTY: 0.0257862, \n",
      "\n",
      "Iteration No: 15 ended. Evaluation done at random point.\n",
      "Time taken: 17.4919\n",
      "Function value obtained: -0.2305\n",
      "Current minimum: -0.2339\n",
      "Iteration No: 16 started. Evaluating function at random point.\n",
      "SearchBayesianSkopt: Testing config: {'num_factors': 32}\n",
      "SearchBayesianSkopt: Config 94 was already explored at index 86. Config: {'num_factors': 32} - results: PRECISION: 0.3813425, PRECISION_RECALL_MIN_DEN: 0.3831026, RECALL: 0.0670440, MAP: 0.2339306, MAP_MIN_DEN: 0.2347708, MRR: 0.6338825, NDCG: 0.3965114, F1: 0.1140388, HIT_RATE: 0.9641653, ARHR_ALL_HITS: 1.1962291, NOVELTY: 0.0055238, AVERAGE_POPULARITY: 0.5298126, DIVERSITY_MEAN_INTER_LIST: 0.9327051, DIVERSITY_HERFINDAHL: 0.9932637, COVERAGE_ITEM: 0.0453513, COVERAGE_ITEM_CORRECT: 0.0398693, COVERAGE_USER: 0.9997070, COVERAGE_USER_CORRECT: 0.9638828, DIVERSITY_GINI: 0.0105397, SHANNON_ENTROPY: 7.9482994, RATIO_DIVERSITY_HERFINDAHL: 0.9936468, RATIO_DIVERSITY_GINI: 0.0424896, RATIO_SHANNON_ENTROPY: 0.6414705, RATIO_AVERAGE_POPULARITY: 2.6015049, RATIO_NOVELTY: 0.0259889, \n",
      "\n",
      "Iteration No: 16 ended. Evaluation done at random point.\n",
      "Time taken: 2.9992\n",
      "Function value obtained: -0.2339\n",
      "Current minimum: -0.2339\n",
      "Iteration No: 17 started. Evaluating function at random point.\n",
      "SearchBayesianSkopt: Testing config: {'num_factors': 65}\n",
      "PureSVDRecommender: Computing SVD decomposition...\n",
      "PureSVDRecommender: Computing SVD decomposition... done in 3.52 sec\n",
      "EvaluatorHoldout: Processed 13646 (100.0%) in 16.69 sec. Users per second: 818\n",
      "SearchBayesianSkopt: Config 95 is suboptimal. Config: {'num_factors': 65} - results: PRECISION: 0.3568885, PRECISION_RECALL_MIN_DEN: 0.3584528, RECALL: 0.0623197, MAP: 0.2118398, MAP_MIN_DEN: 0.2125939, MRR: 0.6079532, NDCG: 0.3707472, F1: 0.1061105, HIT_RATE: 0.9574967, ARHR_ALL_HITS: 1.1177187, NOVELTY: 0.0056230, AVERAGE_POPULARITY: 0.4666043, DIVERSITY_MEAN_INTER_LIST: 0.9597598, DIVERSITY_HERFINDAHL: 0.9959689, COVERAGE_ITEM: 0.0548203, COVERAGE_ITEM_CORRECT: 0.0476217, COVERAGE_USER: 0.9997070, COVERAGE_USER_CORRECT: 0.9572161, DIVERSITY_GINI: 0.0144262, SHANNON_ENTROPY: 8.4563169, RATIO_DIVERSITY_HERFINDAHL: 0.9963531, RATIO_DIVERSITY_GINI: 0.0581574, RATIO_SHANNON_ENTROPY: 0.6824703, RATIO_AVERAGE_POPULARITY: 2.2911374, RATIO_NOVELTY: 0.0264554, \n",
      "\n",
      "Iteration No: 17 ended. Evaluation done at random point.\n",
      "Time taken: 24.1486\n",
      "Function value obtained: -0.2118\n",
      "Current minimum: -0.2339\n",
      "Iteration No: 18 started. Evaluating function at random point.\n",
      "SearchBayesianSkopt: Testing config: {'num_factors': 286}\n",
      "PureSVDRecommender: Computing SVD decomposition...\n",
      "PureSVDRecommender: Computing SVD decomposition... done in 16.64 sec\n",
      "EvaluatorHoldout: Processed 13646 (100.0%) in 15.51 sec. Users per second: 880\n",
      "SearchBayesianSkopt: Config 96 is suboptimal. Config: {'num_factors': 286} - results: PRECISION: 0.2730764, PRECISION_RECALL_MIN_DEN: 0.2738985, RECALL: 0.0459256, MAP: 0.1513848, MAP_MIN_DEN: 0.1517944, MRR: 0.5298505, NDCG: 0.2886302, F1: 0.0786276, HIT_RATE: 0.9103034, ARHR_ALL_HITS: 0.8845900, NOVELTY: 0.0061884, AVERAGE_POPULARITY: 0.2277684, DIVERSITY_MEAN_INTER_LIST: 0.9843510, DIVERSITY_HERFINDAHL: 0.9984279, COVERAGE_ITEM: 0.0995625, COVERAGE_ITEM_CORRECT: 0.0840024, COVERAGE_USER: 0.9997070, COVERAGE_USER_CORRECT: 0.9100366, DIVERSITY_GINI: 0.0338203, SHANNON_ENTROPY: 9.6818305, RATIO_DIVERSITY_HERFINDAHL: 0.9988130, RATIO_DIVERSITY_GINI: 0.1363421, RATIO_SHANNON_ENTROPY: 0.7813758, RATIO_AVERAGE_POPULARITY: 1.1183968, RATIO_NOVELTY: 0.0291158, \n",
      "\n",
      "Iteration No: 18 ended. Evaluation done at random point.\n",
      "Time taken: 35.4681\n",
      "Function value obtained: -0.1514\n",
      "Current minimum: -0.2339\n",
      "Iteration No: 19 started. Evaluating function at random point.\n",
      "SearchBayesianSkopt: Testing config: {'num_factors': 58}\n",
      "PureSVDRecommender: Computing SVD decomposition...\n",
      "PureSVDRecommender: Computing SVD decomposition... done in 3.72 sec\n",
      "EvaluatorHoldout: Processed 13646 (100.0%) in 13.40 sec. Users per second: 1019\n",
      "SearchBayesianSkopt: Config 97 is suboptimal. Config: {'num_factors': 58} - results: PRECISION: 0.3635058, PRECISION_RECALL_MIN_DEN: 0.3650998, RECALL: 0.0639564, MAP: 0.2172325, MAP_MIN_DEN: 0.2179789, MRR: 0.6141086, NDCG: 0.3773809, F1: 0.1087747, HIT_RATE: 0.9602081, ARHR_ALL_HITS: 1.1371837, NOVELTY: 0.0055956, AVERAGE_POPULARITY: 0.4834084, DIVERSITY_MEAN_INTER_LIST: 0.9551003, DIVERSITY_HERFINDAHL: 0.9955030, COVERAGE_ITEM: 0.0528268, COVERAGE_ITEM_CORRECT: 0.0461266, COVERAGE_USER: 0.9997070, COVERAGE_USER_CORRECT: 0.9599267, DIVERSITY_GINI: 0.0135030, SHANNON_ENTROPY: 8.3523949, RATIO_DIVERSITY_HERFINDAHL: 0.9958870, RATIO_DIVERSITY_GINI: 0.0544357, RATIO_SHANNON_ENTROPY: 0.6740832, RATIO_AVERAGE_POPULARITY: 2.3736492, RATIO_NOVELTY: 0.0263265, \n",
      "\n",
      "Iteration No: 19 ended. Evaluation done at random point.\n",
      "Time taken: 20.8286\n",
      "Function value obtained: -0.2172\n",
      "Current minimum: -0.2339\n",
      "Iteration No: 20 started. Evaluating function at random point.\n",
      "SearchBayesianSkopt: Testing config: {'num_factors': 275}\n",
      "PureSVDRecommender: Computing SVD decomposition...\n",
      "PureSVDRecommender: Computing SVD decomposition... done in 13.12 sec\n",
      "EvaluatorHoldout: Processed 13646 (100.0%) in 14.92 sec. Users per second: 915\n",
      "SearchBayesianSkopt: Config 98 is suboptimal. Config: {'num_factors': 275} - results: PRECISION: 0.2756705, PRECISION_RECALL_MIN_DEN: 0.2765471, RECALL: 0.0464191, MAP: 0.1538754, MAP_MIN_DEN: 0.1542598, MRR: 0.5375876, NDCG: 0.2922173, F1: 0.0794586, HIT_RATE: 0.9122820, ARHR_ALL_HITS: 0.8981468, NOVELTY: 0.0061704, AVERAGE_POPULARITY: 0.2331927, DIVERSITY_MEAN_INTER_LIST: 0.9839827, DIVERSITY_HERFINDAHL: 0.9983911, COVERAGE_ITEM: 0.0976798, COVERAGE_ITEM_CORRECT: 0.0821751, COVERAGE_USER: 0.9997070, COVERAGE_USER_CORRECT: 0.9120147, DIVERSITY_GINI: 0.0330431, SHANNON_ENTROPY: 9.6488974, RATIO_DIVERSITY_HERFINDAHL: 0.9987762, RATIO_DIVERSITY_GINI: 0.1332092, RATIO_SHANNON_ENTROPY: 0.7787179, RATIO_AVERAGE_POPULARITY: 1.1450313, RATIO_NOVELTY: 0.0290311, \n",
      "\n",
      "Iteration No: 20 ended. Evaluation done at random point.\n",
      "Time taken: 31.3307\n",
      "Function value obtained: -0.1539\n",
      "Current minimum: -0.2339\n",
      "SearchBayesianSkopt: Testing config: {'num_factors': 167}\n",
      "PureSVDRecommender: Computing SVD decomposition...\n",
      "PureSVDRecommender: Computing SVD decomposition... done in 10.08 sec\n",
      "EvaluatorHoldout: Processed 13646 (100.0%) in 13.88 sec. Users per second: 983\n",
      "SearchBayesianSkopt: Config 99 is suboptimal. Config: {'num_factors': 167} - results: PRECISION: 0.3054375, PRECISION_RECALL_MIN_DEN: 0.3064921, RECALL: 0.0518000, MAP: 0.1740874, MAP_MIN_DEN: 0.1745227, MRR: 0.5619190, NDCG: 0.3204677, F1: 0.0885778, HIT_RATE: 0.9329474, ARHR_ALL_HITS: 0.9759915, NOVELTY: 0.0059498, AVERAGE_POPULARITY: 0.3093237, DIVERSITY_MEAN_INTER_LIST: 0.9787976, DIVERSITY_HERFINDAHL: 0.9978726, COVERAGE_ITEM: 0.0756963, COVERAGE_ITEM_CORRECT: 0.0657290, COVERAGE_USER: 0.9997070, COVERAGE_USER_CORRECT: 0.9326740, DIVERSITY_GINI: 0.0251573, SHANNON_ENTROPY: 9.2590744, RATIO_DIVERSITY_HERFINDAHL: 0.9982575, RATIO_DIVERSITY_GINI: 0.1014186, RATIO_SHANNON_ENTROPY: 0.7472571, RATIO_AVERAGE_POPULARITY: 1.5188526, RATIO_NOVELTY: 0.0279930, \n",
      "\n",
      "Iteration No: 21 ended. Evaluation done at random point.\n",
      "Time taken: 59.1752\n",
      "Function value obtained: -0.1741\n",
      "Current minimum: -0.2339\n",
      "SearchBayesianSkopt: Search complete. Best config is 86: {'num_factors': 32}\n",
      "\n"
     ]
    },
    {
     "data": {
      "text/plain": [
       "[None]"
      ]
     },
     "execution_count": 11,
     "metadata": {},
     "output_type": "execute_result"
    }
   ],
   "source": [
    "from Recommenders.Recommender_import_list import *\n",
    "\n",
    "from HyperparameterTuning.run_hyperparameter_search import runHyperparameterSearch_Collaborative\n",
    "import traceback\n",
    "\n",
    "import os, multiprocessing\n",
    "from functools import partial\n",
    "\n",
    "collaborative_algorithm_list = [\n",
    "        PureSVDRecommender\n",
    "    ]\n",
    "\n",
    "output_folder_path = \"Optimization/\"\n",
    "\n",
    "\n",
    "from Evaluation.Evaluator import EvaluatorHoldout\n",
    "\n",
    "cutoff_list = [5,10,20]\n",
    "metric_to_optimize = \"MAP\"\n",
    "cutoff_to_optimize = 10\n",
    "\n",
    "n_cases = 100\n",
    "n_random_starts = int(n_cases/3)\n",
    "\n",
    "\n",
    "runParameterSearch_Collaborative_partial = partial(runHyperparameterSearch_Collaborative,\n",
    "                                                    URM_train = urm_train_l,\n",
    "                                                    metric_to_optimize = metric_to_optimize,\n",
    "                                                    cutoff_to_optimize = cutoff_to_optimize,\n",
    "                                                    n_cases = n_cases,\n",
    "                                                    n_random_starts = n_random_starts,\n",
    "                                                    evaluator_validation_earlystopping = evaluator_validation,\n",
    "                                                    evaluator_validation = evaluator_validation,\n",
    "                                                    output_folder_path = output_folder_path,\n",
    "                                                    resume_from_saved = True,\n",
    "                                                    #allow_bias_URM=True,\n",
    "                                                    similarity_type_list = [\"cosine\"],\n",
    "                                                    parallelizeKNN = False,\n",
    "                                                    ) \n",
    "\n",
    "\n",
    "\n",
    "\n",
    "\n",
    "pool = multiprocessing.Pool(processes=int(multiprocessing.cpu_count()), maxtasksperchild=1)\n",
    "pool.map(runParameterSearch_Collaborative_partial, collaborative_algorithm_list)"
   ]
  },
  {
   "cell_type": "code",
   "execution_count": 5,
   "metadata": {},
   "outputs": [
    {
     "name": "stdout",
     "output_type": "stream",
     "text": [
      "SLIMElasticNetRecommender: Loading model from file 'saved_models/train/slimElasticNet_best'\n",
      "SLIMElasticNetRecommender: Loading complete\n",
      "PureSVDRecommender: Loading model from file 'saved_models/train/pureSVD'\n",
      "PureSVDRecommender: Loading complete\n"
     ]
    }
   ],
   "source": [
    "from Recommenders.ScoresHybridRecommender import ScoresHybridRecommender\n",
    "from Recommenders.ScoresHybrid2Recommender import ScoresHybrid2Recommender\n",
    "from Recommenders.ScoresHybrid3Recommender import ScoresHybrid3Recommender\n",
    "from Recommenders.SLIM.SLIMElasticNetRecommender import SLIMElasticNetRecommender\n",
    "from Recommenders.MatrixFactorization.PureSVDRecommender import PureSVDRecommender\n",
    "from Recommenders.KNN.UserKNNCFRecommender import UserKNNCFRecommender\n",
    "\n",
    "################ LOAD SLIM ################\n",
    "slimElasticNetLoaded= SLIMElasticNetRecommender(urm_train)\n",
    "slimElasticNetLoaded.load_model(folder_path='saved_models/train/',file_name='slimElasticNet_best')\n",
    "################ LOAD PURE SVD ################\n",
    "pureSVDloaded= PureSVDRecommender(urm_train)\n",
    "pureSVDloaded.load_model(folder_path='saved_models/train/',file_name='pureSVD')"
   ]
  },
  {
   "cell_type": "code",
   "execution_count": 13,
   "metadata": {},
   "outputs": [
    {
     "name": "stdout",
     "output_type": "stream",
     "text": [
      "PureSVDRecommender: Computing SVD decomposition...\n",
      "PureSVDRecommender: Computing SVD decomposition... done in 3.82 sec\n"
     ]
    }
   ],
   "source": [
    "pureSVD= PureSVDRecommender(urm_train)\n",
    "pureSVD.fit(num_factors=37)"
   ]
  },
  {
   "cell_type": "code",
   "execution_count": 14,
   "metadata": {},
   "outputs": [],
   "source": [
    "scoreshybridrecommender= ScoresHybridRecommender(urm_train,slimElasticNetLoaded,pureSVD)\n",
    "scoreshybridrecommender.fit(alpha=0.77535)"
   ]
  },
  {
   "cell_type": "code",
   "execution_count": 15,
   "metadata": {},
   "outputs": [
    {
     "name": "stdout",
     "output_type": "stream",
     "text": [
      "EvaluatorHoldout: Ignoring 13646 ( 0.0%) Users that have less than 1 test interactions\n",
      "EvaluatorHoldout: Processed 13646 (100.0%) in 42.38 sec. Users per second: 322\n",
      "cutoff\n",
      "10    0.245065\n",
      "Name: MAP, dtype: object\n"
     ]
    }
   ],
   "source": [
    "result_df, _ = evaluator_validation.evaluateRecommender(scoreshybridrecommender)\n",
    "print(result_df['MAP'])"
   ]
  }
 ],
 "metadata": {
  "kernelspec": {
   "display_name": "Python 3",
   "language": "python",
   "name": "python3"
  },
  "language_info": {
   "codemirror_mode": {
    "name": "ipython",
    "version": 3
   },
   "file_extension": ".py",
   "mimetype": "text/x-python",
   "name": "python",
   "nbconvert_exporter": "python",
   "pygments_lexer": "ipython3",
   "version": "3.8.12"
  }
 },
 "nbformat": 4,
 "nbformat_minor": 1
}
