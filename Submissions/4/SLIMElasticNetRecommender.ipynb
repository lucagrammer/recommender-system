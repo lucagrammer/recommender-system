{
 "cells": [
  {
   "cell_type": "code",
   "execution_count": 1,
   "metadata": {},
   "outputs": [],
   "source": [
    "import numpy as np\n",
    "import pandas as pd\n",
    "import scipy.sparse as sp\n",
    "import FileManager\n",
    "from Recommenders.SLIM.SLIMElasticNetRecommender import SLIMElasticNetRecommender\n"
   ]
  },
  {
   "cell_type": "code",
   "execution_count": 2,
   "metadata": {},
   "outputs": [
    {
     "name": "stdout",
     "output_type": "stream",
     "text": [
      "> Importing file...\n",
      "> Importing file... Completed!\n",
      "> Importing file...\n",
      "> Importing file... Completed!\n"
     ]
    }
   ],
   "source": [
    "ratings = FileManager.load_data()\n",
    "users_to_recommend = np.array(FileManager.load_target()).squeeze()\n",
    "urm_all,urm_train,urm_validation= FileManager.split_data(ratings)\n",
    "urm_train_validation = urm_train + urm_validation"
   ]
  },
  {
   "cell_type": "code",
   "execution_count": 3,
   "metadata": {},
   "outputs": [
    {
     "name": "stdout",
     "output_type": "stream",
     "text": [
      "SLIMElasticNetRecommender: Processed 1079 ( 6.0%) in 5.00 min. Items per second: 3.59\n",
      "SLIMElasticNetRecommender: Processed 2155 (11.9%) in 10.01 min. Items per second: 3.59\n",
      "SLIMElasticNetRecommender: Processed 3228 (17.9%) in 15.01 min. Items per second: 3.58\n",
      "SLIMElasticNetRecommender: Processed 4296 (23.8%) in 20.01 min. Items per second: 3.58\n",
      "SLIMElasticNetRecommender: Processed 5362 (29.7%) in 25.01 min. Items per second: 3.57\n",
      "SLIMElasticNetRecommender: Processed 6429 (35.6%) in 30.02 min. Items per second: 3.57\n",
      "SLIMElasticNetRecommender: Processed 7494 (41.5%) in 35.02 min. Items per second: 3.57\n",
      "SLIMElasticNetRecommender: Processed 8568 (47.4%) in 40.02 min. Items per second: 3.57\n",
      "SLIMElasticNetRecommender: Processed 9635 (53.4%) in 45.03 min. Items per second: 3.57\n",
      "SLIMElasticNetRecommender: Processed 10708 (59.3%) in 50.03 min. Items per second: 3.57\n",
      "SLIMElasticNetRecommender: Processed 11775 (65.2%) in 55.04 min. Items per second: 3.57\n",
      "SLIMElasticNetRecommender: Processed 12841 (71.1%) in 1.00 hour. Items per second: 3.56\n",
      "SLIMElasticNetRecommender: Processed 13905 (77.0%) in 1.08 hour. Items per second: 3.56\n",
      "SLIMElasticNetRecommender: Processed 14974 (82.9%) in 1.17 hour. Items per second: 3.56\n",
      "SLIMElasticNetRecommender: Processed 16050 (88.9%) in 1.25 hour. Items per second: 3.56\n",
      "SLIMElasticNetRecommender: Processed 17092 (94.6%) in 1.33 hour. Items per second: 3.56\n",
      "SLIMElasticNetRecommender: Processed 18059 (100.0%) in 1.41 hour. Items per second: 3.55\n",
      "Recommending...\n",
      "Recommending... Completed!\n",
      "\tGenerated lines:  13650\n"
     ]
    }
   ],
   "source": [
    "best_recommender = SLIMElasticNetRecommender(urm_train_validation)\n",
    "best_recommender.fit(topK=707, l1_ratio=3.7848901259206446e-05, alpha=0.8041273931917446)\n",
    "\n",
    "submission = FileManager.prepare_submission(\n",
    "    ratings, users_to_recommend, best_recommender\n",
    ")\n",
    "\n",
    "print(\"\\tGenerated lines: \", len(submission))\n",
    "if(len(submission)!=13650):\n",
    "    print(\"ERROR: 13650 lines expected.\")\n"
   ]
  },
  {
   "cell_type": "code",
   "execution_count": 5,
   "metadata": {},
   "outputs": [
    {
     "name": "stdout",
     "output_type": "stream",
     "text": [
      "CSV successfully created.\n"
     ]
    }
   ],
   "source": [
    "FileManager.write_submission(submission)"
   ]
  },
  {
   "cell_type": "code",
   "execution_count": 5,
   "metadata": {},
   "outputs": [
    {
     "name": "stdout",
     "output_type": "stream",
     "text": [
      "SLIMElasticNetRecommender: Processed 1277 ( 7.1%) in 5.00 min. Items per second: 4.25\n",
      "SLIMElasticNetRecommender: Processed 2544 (14.1%) in 10.01 min. Items per second: 4.24\n",
      "SLIMElasticNetRecommender: Processed 3807 (21.1%) in 15.01 min. Items per second: 4.23\n",
      "SLIMElasticNetRecommender: Processed 5076 (28.1%) in 20.01 min. Items per second: 4.23\n",
      "SLIMElasticNetRecommender: Processed 6329 (35.0%) in 25.01 min. Items per second: 4.22\n",
      "SLIMElasticNetRecommender: Processed 7600 (42.1%) in 30.02 min. Items per second: 4.22\n",
      "SLIMElasticNetRecommender: Processed 8866 (49.1%) in 35.02 min. Items per second: 4.22\n",
      "SLIMElasticNetRecommender: Processed 10136 (56.1%) in 40.02 min. Items per second: 4.22\n",
      "SLIMElasticNetRecommender: Processed 11408 (63.2%) in 45.02 min. Items per second: 4.22\n",
      "SLIMElasticNetRecommender: Processed 12674 (70.2%) in 50.02 min. Items per second: 4.22\n",
      "SLIMElasticNetRecommender: Processed 13952 (77.3%) in 55.03 min. Items per second: 4.23\n",
      "SLIMElasticNetRecommender: Processed 15218 (84.3%) in 1.00 hour. Items per second: 4.23\n",
      "SLIMElasticNetRecommender: Processed 16484 (91.3%) in 1.08 hour. Items per second: 4.22\n",
      "SLIMElasticNetRecommender: Processed 17731 (98.2%) in 1.17 hour. Items per second: 4.22\n",
      "SLIMElasticNetRecommender: Processed 18059 (100.0%) in 1.19 hour. Items per second: 4.22\n",
      "EvaluatorHoldout: Ignoring 13640 ( 0.1%) Users that have less than 1 test interactions\n",
      "EvaluatorHoldout: Processed 13640 (100.0%) in 36.92 sec. Users per second: 369\n"
     ]
    }
   ],
   "source": [
    "from Evaluation.Evaluator import EvaluatorHoldout\n",
    "\n",
    "recommender = SLIMElasticNetRecommender(urm_train)\n",
    "\n",
    "recommender.fit(topK=707, l1_ratio=3.7848901259206446e-05, alpha=0.8041273931917446)\n",
    "# MAP: 0.238116 -- score: 0.43593\n",
    "\n",
    "evaluator_validation = EvaluatorHoldout(urm_validation, cutoff_list=[10])\n",
    "result_df, _ = evaluator_validation.evaluateRecommender(recommender)\n"
   ]
  },
  {
   "cell_type": "code",
   "execution_count": 6,
   "metadata": {},
   "outputs": [
    {
     "data": {
      "text/html": [
       "<div>\n",
       "<style scoped>\n",
       "    .dataframe tbody tr th:only-of-type {\n",
       "        vertical-align: middle;\n",
       "    }\n",
       "\n",
       "    .dataframe tbody tr th {\n",
       "        vertical-align: top;\n",
       "    }\n",
       "\n",
       "    .dataframe thead th {\n",
       "        text-align: right;\n",
       "    }\n",
       "</style>\n",
       "<table border=\"1\" class=\"dataframe\">\n",
       "  <thead>\n",
       "    <tr style=\"text-align: right;\">\n",
       "      <th></th>\n",
       "      <th>PRECISION</th>\n",
       "      <th>PRECISION_RECALL_MIN_DEN</th>\n",
       "      <th>RECALL</th>\n",
       "      <th>MAP</th>\n",
       "      <th>MAP_MIN_DEN</th>\n",
       "      <th>MRR</th>\n",
       "      <th>NDCG</th>\n",
       "      <th>F1</th>\n",
       "      <th>HIT_RATE</th>\n",
       "      <th>ARHR_ALL_HITS</th>\n",
       "      <th>...</th>\n",
       "      <th>COVERAGE_ITEM_CORRECT</th>\n",
       "      <th>COVERAGE_USER</th>\n",
       "      <th>COVERAGE_USER_CORRECT</th>\n",
       "      <th>DIVERSITY_GINI</th>\n",
       "      <th>SHANNON_ENTROPY</th>\n",
       "      <th>RATIO_DIVERSITY_HERFINDAHL</th>\n",
       "      <th>RATIO_DIVERSITY_GINI</th>\n",
       "      <th>RATIO_SHANNON_ENTROPY</th>\n",
       "      <th>RATIO_AVERAGE_POPULARITY</th>\n",
       "      <th>RATIO_NOVELTY</th>\n",
       "    </tr>\n",
       "    <tr>\n",
       "      <th>cutoff</th>\n",
       "      <th></th>\n",
       "      <th></th>\n",
       "      <th></th>\n",
       "      <th></th>\n",
       "      <th></th>\n",
       "      <th></th>\n",
       "      <th></th>\n",
       "      <th></th>\n",
       "      <th></th>\n",
       "      <th></th>\n",
       "      <th></th>\n",
       "      <th></th>\n",
       "      <th></th>\n",
       "      <th></th>\n",
       "      <th></th>\n",
       "      <th></th>\n",
       "      <th></th>\n",
       "      <th></th>\n",
       "      <th></th>\n",
       "      <th></th>\n",
       "      <th></th>\n",
       "    </tr>\n",
       "  </thead>\n",
       "  <tbody>\n",
       "    <tr>\n",
       "      <th>10</th>\n",
       "      <td>0.384589</td>\n",
       "      <td>0.386039</td>\n",
       "      <td>0.067451</td>\n",
       "      <td>0.238116</td>\n",
       "      <td>0.23883</td>\n",
       "      <td>0.640426</td>\n",
       "      <td>0.40115</td>\n",
       "      <td>0.114773</td>\n",
       "      <td>0.966202</td>\n",
       "      <td>1.214128</td>\n",
       "      <td>...</td>\n",
       "      <td>0.026247</td>\n",
       "      <td>0.999267</td>\n",
       "      <td>0.965495</td>\n",
       "      <td>0.004598</td>\n",
       "      <td>6.704742</td>\n",
       "      <td>0.984389</td>\n",
       "      <td>0.018538</td>\n",
       "      <td>0.541115</td>\n",
       "      <td>3.168641</td>\n",
       "      <td>0.025047</td>\n",
       "    </tr>\n",
       "  </tbody>\n",
       "</table>\n",
       "<p>1 rows × 25 columns</p>\n",
       "</div>"
      ],
      "text/plain": [
       "       PRECISION PRECISION_RECALL_MIN_DEN    RECALL       MAP MAP_MIN_DEN  \\\n",
       "cutoff                                                                      \n",
       "10      0.384589                 0.386039  0.067451  0.238116     0.23883   \n",
       "\n",
       "             MRR     NDCG        F1  HIT_RATE ARHR_ALL_HITS  ...  \\\n",
       "cutoff                                                       ...   \n",
       "10      0.640426  0.40115  0.114773  0.966202      1.214128  ...   \n",
       "\n",
       "       COVERAGE_ITEM_CORRECT COVERAGE_USER COVERAGE_USER_CORRECT  \\\n",
       "cutoff                                                             \n",
       "10                  0.026247      0.999267              0.965495   \n",
       "\n",
       "       DIVERSITY_GINI SHANNON_ENTROPY RATIO_DIVERSITY_HERFINDAHL  \\\n",
       "cutoff                                                             \n",
       "10           0.004598        6.704742                   0.984389   \n",
       "\n",
       "       RATIO_DIVERSITY_GINI RATIO_SHANNON_ENTROPY RATIO_AVERAGE_POPULARITY  \\\n",
       "cutoff                                                                       \n",
       "10                 0.018538              0.541115                 3.168641   \n",
       "\n",
       "       RATIO_NOVELTY  \n",
       "cutoff                \n",
       "10          0.025047  \n",
       "\n",
       "[1 rows x 25 columns]"
      ]
     },
     "execution_count": 6,
     "metadata": {},
     "output_type": "execute_result"
    }
   ],
   "source": [
    "result_df"
   ]
  },
  {
   "cell_type": "code",
   "execution_count": null,
   "metadata": {},
   "outputs": [],
   "source": []
  }
 ],
 "metadata": {
  "kernelspec": {
   "display_name": "Python 3",
   "language": "python",
   "name": "python3"
  },
  "language_info": {
   "codemirror_mode": {
    "name": "ipython",
    "version": 3
   },
   "file_extension": ".py",
   "mimetype": "text/x-python",
   "name": "python",
   "nbconvert_exporter": "python",
   "pygments_lexer": "ipython3",
   "version": "3.8.12"
  }
 },
 "nbformat": 4,
 "nbformat_minor": 1
}
