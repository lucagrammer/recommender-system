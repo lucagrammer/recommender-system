{
 "cells": [
  {
   "cell_type": "code",
   "execution_count": 20,
   "metadata": {},
   "outputs": [],
   "source": [
    "import numpy as np\n",
    "import pandas as pd\n",
    "import scipy.sparse as sp\n",
    "import FileManager\n",
    "from Recommenders.KNN.ItemKNNCFRecommender import ItemKNNCFRecommender"
   ]
  },
  {
   "cell_type": "code",
   "execution_count": 21,
   "metadata": {},
   "outputs": [
    {
     "name": "stdout",
     "output_type": "stream",
     "text": [
      "> Importing file...\n",
      "> Importing file... Completed!\n",
      "> Importing file...\n",
      "> Importing file... Completed!\n"
     ]
    }
   ],
   "source": [
    "ratings = FileManager.load_data()\n",
    "users_to_recommend = np.array(FileManager.load_target()).squeeze()\n",
    "urm_all,urm_train,urm_validation= FileManager.split_data(ratings)\n",
    "urm_train_validation = urm_train + urm_validation"
   ]
  },
  {
   "cell_type": "code",
   "execution_count": 22,
   "metadata": {},
   "outputs": [
    {
     "name": "stdout",
     "output_type": "stream",
     "text": [
      "Similarity column 18059 (100.0%), 760.02 column/sec. Elapsed time 23.76 sec\n",
      "Recommending...\n",
      "Recommending... Completed!\n",
      "\tGenerated lines:  13650\n"
     ]
    }
   ],
   "source": [
    "best_recommender = ItemKNNCFRecommender(urm_train_validation)\n",
    "best_recommender.fit(topK=209, shrink=3, normalize=True, similarity=\"cosine\")\n",
    "\n",
    "submission = FileManager.prepare_submission(\n",
    "    ratings, users_to_recommend, best_recommender\n",
    ")\n",
    "\n",
    "print(\"\\tGenerated lines: \", len(submission))\n",
    "if(len(submission)!=13650):\n",
    "    print(\"ERROR: 13650 lines expected.\")\n"
   ]
  },
  {
   "cell_type": "code",
   "execution_count": 24,
   "metadata": {},
   "outputs": [
    {
     "name": "stdout",
     "output_type": "stream",
     "text": [
      "CSV successfully created.\n"
     ]
    }
   ],
   "source": [
    "FileManager.write_submission(submission)"
   ]
  },
  {
   "cell_type": "code",
   "execution_count": 18,
   "metadata": {},
   "outputs": [
    {
     "name": "stdout",
     "output_type": "stream",
     "text": [
      "Similarity column 18059 (100.0%), 840.35 column/sec. Elapsed time 21.49 sec\n",
      "EvaluatorHoldout: Ignoring 13644 ( 0.0%) Users that have less than 1 test interactions\n",
      "EvaluatorHoldout: Processed 13644 (100.0%) in 35.67 sec. Users per second: 382\n"
     ]
    }
   ],
   "source": [
    "from Evaluation.Evaluator import EvaluatorHoldout\n",
    "\n",
    "recommender = ItemKNNCFRecommender(urm_train)\n",
    "#recommender.fit(topK=994, shrink=1, normalize=True, similarity=\"cosine\") \n",
    "# MAP 0.204975; PREC 0.337328 --- optimizer: MAP 0.205277; PREC 0.337491\n",
    "\n",
    "#recommender.fit(topK=234, shrink=5, normalize=True, similarity=\"cosine\")\n",
    "# MAP 0.210285; PREC 0.346768 --- optimizer: MAP 0.211285; PREC 0.347336\t\n",
    "\n",
    "#recommender.fit(topK=207, shrink=1, normalize=True, similarity=\"cosine\")\n",
    "# MAP 0.210863; PREC 0.348146 --- optimizer: MAP 0.210616; PREC 0.347538\n",
    "\n",
    "#recommender.fit(topK=150, shrink=4, normalize=True, similarity=\"cosine\")\n",
    "# MAP 0.210535; PREC 0.34838 --- optimizer: MAP 0.21017; PREC 0.34827\n",
    "\n",
    "recommender.fit(topK=209, shrink=3, normalize=True, similarity=\"cosine\")\n",
    "# MAP 0.211074 ; PREC 0.348454  --- optimizer: MAP 0.210928; PREC 0.347054 (SCORE 0.34463)\n",
    "\n",
    "evaluator_validation = EvaluatorHoldout(urm_validation, cutoff_list=[10])\n",
    "result_df, _ = evaluator_validation.evaluateRecommender(recommender)\n"
   ]
  },
  {
   "cell_type": "code",
   "execution_count": 19,
   "metadata": {},
   "outputs": [
    {
     "data": {
      "text/html": [
       "<div>\n",
       "<style scoped>\n",
       "    .dataframe tbody tr th:only-of-type {\n",
       "        vertical-align: middle;\n",
       "    }\n",
       "\n",
       "    .dataframe tbody tr th {\n",
       "        vertical-align: top;\n",
       "    }\n",
       "\n",
       "    .dataframe thead th {\n",
       "        text-align: right;\n",
       "    }\n",
       "</style>\n",
       "<table border=\"1\" class=\"dataframe\">\n",
       "  <thead>\n",
       "    <tr style=\"text-align: right;\">\n",
       "      <th></th>\n",
       "      <th>PRECISION</th>\n",
       "      <th>PRECISION_RECALL_MIN_DEN</th>\n",
       "      <th>RECALL</th>\n",
       "      <th>MAP</th>\n",
       "      <th>MAP_MIN_DEN</th>\n",
       "      <th>MRR</th>\n",
       "      <th>NDCG</th>\n",
       "      <th>F1</th>\n",
       "      <th>HIT_RATE</th>\n",
       "      <th>ARHR_ALL_HITS</th>\n",
       "      <th>...</th>\n",
       "      <th>COVERAGE_ITEM_CORRECT</th>\n",
       "      <th>COVERAGE_USER</th>\n",
       "      <th>COVERAGE_USER_CORRECT</th>\n",
       "      <th>DIVERSITY_GINI</th>\n",
       "      <th>SHANNON_ENTROPY</th>\n",
       "      <th>RATIO_DIVERSITY_HERFINDAHL</th>\n",
       "      <th>RATIO_DIVERSITY_GINI</th>\n",
       "      <th>RATIO_SHANNON_ENTROPY</th>\n",
       "      <th>RATIO_AVERAGE_POPULARITY</th>\n",
       "      <th>RATIO_NOVELTY</th>\n",
       "    </tr>\n",
       "    <tr>\n",
       "      <th>cutoff</th>\n",
       "      <th></th>\n",
       "      <th></th>\n",
       "      <th></th>\n",
       "      <th></th>\n",
       "      <th></th>\n",
       "      <th></th>\n",
       "      <th></th>\n",
       "      <th></th>\n",
       "      <th></th>\n",
       "      <th></th>\n",
       "      <th></th>\n",
       "      <th></th>\n",
       "      <th></th>\n",
       "      <th></th>\n",
       "      <th></th>\n",
       "      <th></th>\n",
       "      <th></th>\n",
       "      <th></th>\n",
       "      <th></th>\n",
       "      <th></th>\n",
       "      <th></th>\n",
       "    </tr>\n",
       "  </thead>\n",
       "  <tbody>\n",
       "    <tr>\n",
       "      <th>10</th>\n",
       "      <td>0.348454</td>\n",
       "      <td>0.349781</td>\n",
       "      <td>0.059609</td>\n",
       "      <td>0.211074</td>\n",
       "      <td>0.211689</td>\n",
       "      <td>0.618916</td>\n",
       "      <td>0.367608</td>\n",
       "      <td>0.101803</td>\n",
       "      <td>0.953899</td>\n",
       "      <td>1.124043</td>\n",
       "      <td>...</td>\n",
       "      <td>0.028296</td>\n",
       "      <td>0.99956</td>\n",
       "      <td>0.95348</td>\n",
       "      <td>0.00387</td>\n",
       "      <td>6.354409</td>\n",
       "      <td>0.980936</td>\n",
       "      <td>0.015606</td>\n",
       "      <td>0.512843</td>\n",
       "      <td>3.265902</td>\n",
       "      <td>0.024983</td>\n",
       "    </tr>\n",
       "  </tbody>\n",
       "</table>\n",
       "<p>1 rows × 25 columns</p>\n",
       "</div>"
      ],
      "text/plain": [
       "       PRECISION PRECISION_RECALL_MIN_DEN    RECALL       MAP MAP_MIN_DEN  \\\n",
       "cutoff                                                                      \n",
       "10      0.348454                 0.349781  0.059609  0.211074    0.211689   \n",
       "\n",
       "             MRR      NDCG        F1  HIT_RATE ARHR_ALL_HITS  ...  \\\n",
       "cutoff                                                        ...   \n",
       "10      0.618916  0.367608  0.101803  0.953899      1.124043  ...   \n",
       "\n",
       "       COVERAGE_ITEM_CORRECT COVERAGE_USER COVERAGE_USER_CORRECT  \\\n",
       "cutoff                                                             \n",
       "10                  0.028296       0.99956               0.95348   \n",
       "\n",
       "       DIVERSITY_GINI SHANNON_ENTROPY RATIO_DIVERSITY_HERFINDAHL  \\\n",
       "cutoff                                                             \n",
       "10            0.00387        6.354409                   0.980936   \n",
       "\n",
       "       RATIO_DIVERSITY_GINI RATIO_SHANNON_ENTROPY RATIO_AVERAGE_POPULARITY  \\\n",
       "cutoff                                                                       \n",
       "10                 0.015606              0.512843                 3.265902   \n",
       "\n",
       "       RATIO_NOVELTY  \n",
       "cutoff                \n",
       "10          0.024983  \n",
       "\n",
       "[1 rows x 25 columns]"
      ]
     },
     "execution_count": 19,
     "metadata": {},
     "output_type": "execute_result"
    }
   ],
   "source": [
    "result_df"
   ]
  },
  {
   "cell_type": "code",
   "execution_count": null,
   "metadata": {},
   "outputs": [],
   "source": []
  }
 ],
 "metadata": {
  "kernelspec": {
   "display_name": "Python 3",
   "language": "python",
   "name": "python3"
  },
  "language_info": {
   "codemirror_mode": {
    "name": "ipython",
    "version": 3
   },
   "file_extension": ".py",
   "mimetype": "text/x-python",
   "name": "python",
   "nbconvert_exporter": "python",
   "pygments_lexer": "ipython3",
   "version": "3.8.8"
  }
 },
 "nbformat": 4,
 "nbformat_minor": 1
}
