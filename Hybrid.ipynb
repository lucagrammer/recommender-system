{
 "cells": [
  {
   "cell_type": "code",
   "execution_count": 1,
   "metadata": {},
   "outputs": [],
   "source": [
    "import numpy as np\n",
    "import FileManager\n",
    "\n",
    "from Recommenders.ScoresHybridRecommender import ScoresHybridRecommender\n",
    "from Recommenders.SLIM.SLIMElasticNetRecommender import SLIMElasticNetRecommender\n",
    "from Recommenders.MatrixFactorization.PureSVDRecommender import PureSVDRecommender\n",
    "from Recommenders.KNN.UserKNNCFRecommender import UserKNNCFRecommender"
   ]
  },
  {
   "cell_type": "code",
   "execution_count": 2,
   "metadata": {},
   "outputs": [
    {
     "name": "stdout",
     "output_type": "stream",
     "text": [
      "> Importing file...\n",
      "> Importing file... Completed!\n",
      "> Importing file...\n",
      "> Importing file... Completed!\n"
     ]
    }
   ],
   "source": [
    "ratings = FileManager.load_data()\n",
    "users_to_recommend = np.array(FileManager.load_target()).squeeze()\n",
    "urm_all,urm_train,urm_validation= FileManager.split_data(ratings)\n",
    "urm_train_validation = urm_train + urm_validation"
   ]
  },
  {
   "cell_type": "code",
   "execution_count": 6,
   "metadata": {},
   "outputs": [
    {
     "name": "stdout",
     "output_type": "stream",
     "text": [
      "SLIMElasticNetRecommender: Processed 929 ( 5.1%) in 5.01 min. Items per second: 3.09\n",
      "SLIMElasticNetRecommender: Processed 2051 (11.4%) in 10.01 min. Items per second: 3.41\n",
      "SLIMElasticNetRecommender: Processed 3319 (18.4%) in 15.01 min. Items per second: 3.68\n",
      "SLIMElasticNetRecommender: Processed 4448 (24.6%) in 20.01 min. Items per second: 3.70\n",
      "SLIMElasticNetRecommender: Processed 5529 (30.6%) in 25.01 min. Items per second: 3.68\n",
      "SLIMElasticNetRecommender: Processed 6617 (36.6%) in 30.01 min. Items per second: 3.67\n",
      "SLIMElasticNetRecommender: Processed 7697 (42.6%) in 35.02 min. Items per second: 3.66\n",
      "SLIMElasticNetRecommender: Processed 8772 (48.6%) in 40.02 min. Items per second: 3.65\n",
      "SLIMElasticNetRecommender: Processed 9850 (54.5%) in 45.02 min. Items per second: 3.65\n",
      "SLIMElasticNetRecommender: Processed 10922 (60.5%) in 50.03 min. Items per second: 3.64\n",
      "SLIMElasticNetRecommender: Processed 11979 (66.3%) in 55.03 min. Items per second: 3.63\n",
      "SLIMElasticNetRecommender: Processed 13045 (72.2%) in 1.00 hour. Items per second: 3.62\n",
      "SLIMElasticNetRecommender: Processed 14109 (78.1%) in 1.08 hour. Items per second: 3.62\n",
      "SLIMElasticNetRecommender: Processed 15183 (84.1%) in 1.17 hour. Items per second: 3.61\n",
      "SLIMElasticNetRecommender: Processed 16258 (90.0%) in 1.25 hour. Items per second: 3.61\n",
      "SLIMElasticNetRecommender: Processed 17327 (95.9%) in 1.33 hour. Items per second: 3.61\n",
      "SLIMElasticNetRecommender: Processed 18059 (100.0%) in 1.40 hour. Items per second: 3.59\n"
     ]
    }
   ],
   "source": [
    "################ TRAIN SLIM ################\n",
    "slimElasticNet= SLIMElasticNetRecommender(urm_train_validation)\n",
    "slimElasticNet.fit(topK=1000, l1_ratio=6.344693557004013e-05, alpha=0.3999549520753924)"
   ]
  },
  {
   "cell_type": "code",
   "execution_count": 10,
   "metadata": {},
   "outputs": [
    {
     "name": "stdout",
     "output_type": "stream",
     "text": [
      "SLIMElasticNetRecommender: Saving model in file 'saved_models/train_evaluation/slimElasticNet'\n",
      "SLIMElasticNetRecommender: Saving complete\n"
     ]
    }
   ],
   "source": [
    "################ SAVE SLIM ################\n",
    "slimElasticNet.save_model(folder_path='saved_models/train_evaluation/',file_name='slimElasticNet')"
   ]
  },
  {
   "cell_type": "code",
   "execution_count": 4,
   "metadata": {},
   "outputs": [
    {
     "name": "stdout",
     "output_type": "stream",
     "text": [
      "SLIMElasticNetRecommender: Loading model from file 'saved_models/train_evaluation/slimElasticNet'\n",
      "SLIMElasticNetRecommender: Loading complete\n"
     ]
    }
   ],
   "source": [
    "################ LOAD SLIM ################\n",
    "slimElasticNetLoaded= SLIMElasticNetRecommender(urm_train_validation)\n",
    "slimElasticNetLoaded.load_model(folder_path='saved_models/train_evaluation/',file_name='slimElasticNet')"
   ]
  },
  {
   "cell_type": "code",
   "execution_count": 11,
   "metadata": {},
   "outputs": [
    {
     "name": "stdout",
     "output_type": "stream",
     "text": [
      "PureSVDRecommender: Computing SVD decomposition...\n",
      "PureSVDRecommender: Computing SVD decomposition... done in 3.26 sec\n"
     ]
    }
   ],
   "source": [
    "################ TRAIN PURE SVD ################\n",
    "pureSVD= PureSVDRecommender(urm_train_validation)\n",
    "pureSVD.fit(num_factors=32)"
   ]
  },
  {
   "cell_type": "code",
   "execution_count": null,
   "metadata": {},
   "outputs": [],
   "source": [
    "################ SAVE  PURE SVD ################\n",
    "pureSVD.save_model(folder_path='saved_models/train_evaluation/',file_name='pureSVD')"
   ]
  },
  {
   "cell_type": "code",
   "execution_count": 5,
   "metadata": {},
   "outputs": [
    {
     "name": "stdout",
     "output_type": "stream",
     "text": [
      "PureSVDRecommender: Loading model from file 'saved_models/train_evaluation/pureSVD'\n",
      "PureSVDRecommender: Loading complete\n"
     ]
    }
   ],
   "source": [
    "################ LOAD PURE SVD ################\n",
    "pureSVDloaded= PureSVDRecommender(urm_train_validation)\n",
    "pureSVDloaded.load_model(folder_path='saved_models/train_evaluation/',file_name='pureSVD')"
   ]
  },
  {
   "cell_type": "code",
   "execution_count": 7,
   "metadata": {},
   "outputs": [
    {
     "name": "stdout",
     "output_type": "stream",
     "text": [
      "Similarity column 13650 (100.0%), 204.73 column/sec. Elapsed time 1.11 min\n"
     ]
    }
   ],
   "source": [
    "################ TRAIN USER KNN ################\n",
    "userKNN=UserKNNCFRecommender(urm_train_validation)\n",
    "userKNN.fit(topK=677, shrink=302, similarity='cosine', normalize=True, feature_weighting='TF-IDF')"
   ]
  },
  {
   "cell_type": "code",
   "execution_count": 8,
   "metadata": {},
   "outputs": [
    {
     "name": "stdout",
     "output_type": "stream",
     "text": [
      "UserKNNCFRecommender: Saving model in file 'saved_models/train_evalutation/userKNNcf'\n",
      "UserKNNCFRecommender: Saving complete\n"
     ]
    }
   ],
   "source": [
    "################ SAVE  USER KNN ################\n",
    "userKNN.save_model(folder_path='saved_models/train_evalutation/',file_name='userKNNcf')"
   ]
  },
  {
   "cell_type": "code",
   "execution_count": 12,
   "metadata": {},
   "outputs": [
    {
     "name": "stdout",
     "output_type": "stream",
     "text": [
      "Recommending...\n",
      "Recommending... Completed!\n",
      "\tGenerated lines:  13650\n"
     ]
    }
   ],
   "source": [
    "#scoreshybridrecommender= ScoresHybrid2Recommender(urm_train_validation,slimElasticNetLoaded,pureSVDloaded,userKNN)\n",
    "#scoreshybridrecommender.fit(a=0.0040072306156331,b=0.9132691560351632,c=0.026471267467064796)\n",
    "\n",
    "scoreshybridrecommender= ScoresHybridRecommender(urm_train_validation,slimElasticNet,pureSVD)\n",
    "#scoreshybridrecommender.fit(alpha=0.77535)\n",
    "scoreshybridrecommender.fit(alpha=0.77535)\n",
    "\n",
    "## BEFORE EXECUTING CHECK: URM TRAIN VALIDATION!!!\n",
    "\n",
    "submission = FileManager.prepare_submission(\n",
    "    ratings, users_to_recommend, scoreshybridrecommender\n",
    ")\n",
    "\n",
    "print(\"\\tGenerated lines: \", len(submission))\n",
    "if(len(submission)!=13650):\n",
    "    print(\"ERROR: 13650 lines expected.\")\n"
   ]
  },
  {
   "cell_type": "code",
   "execution_count": 13,
   "metadata": {},
   "outputs": [
    {
     "name": "stdout",
     "output_type": "stream",
     "text": [
      "CSV successfully created.\n"
     ]
    }
   ],
   "source": [
    "FileManager.write_submission(submission)"
   ]
  },
  {
   "cell_type": "code",
   "execution_count": null,
   "metadata": {},
   "outputs": [],
   "source": []
  }
 ],
 "metadata": {
  "kernelspec": {
   "display_name": "Python 3",
   "language": "python",
   "name": "python3"
  },
  "language_info": {
   "codemirror_mode": {
    "name": "ipython",
    "version": 3
   },
   "file_extension": ".py",
   "mimetype": "text/x-python",
   "name": "python",
   "nbconvert_exporter": "python",
   "pygments_lexer": "ipython3",
   "version": "3.8.12"
  }
 },
 "nbformat": 4,
 "nbformat_minor": 1
}
